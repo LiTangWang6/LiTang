{
 "cells": [
  {
   "cell_type": "code",
   "execution_count": 1,
   "metadata": {},
   "outputs": [],
   "source": [
    "#任务1：csv格式数据的读写检查\n",
    "\n",
    "\n",
    "import pandas as pd\n"
   ]
  },
  {
   "cell_type": "code",
   "execution_count": 2,
   "metadata": {},
   "outputs": [],
   "source": [
    "df1 = pd.read_csv(R'000_《统计与数据分析》课程第一次作业收集_提交统计.csv',encoding='GBK')\n",
    "列名列表=['姓名','学号','Github仓库地址']"
   ]
  },
  {
   "cell_type": "code",
   "execution_count": 3,
   "metadata": {},
   "outputs": [],
   "source": [
    "df1.to_csv('output/csv保存练习',index = False)"
   ]
  },
  {
   "cell_type": "code",
   "execution_count": 4,
   "metadata": {},
   "outputs": [],
   "source": [
    "#任务2： xlsx格式数据的读写查询\n",
    "df2 = pd.read_excel(R'000_《统计与数据分析》课程第一次作业收集_提交统计.xlsx',\n",
    "sheet_name='提交清单',usecols=['姓名','学号','Github仓库地址'])\n"
   ]
  },
  {
   "cell_type": "code",
   "execution_count": 5,
   "metadata": {},
   "outputs": [],
   "source": [
    "df2.to_excel(R'output/excel保存练习.xlsx', index = False)"
   ]
  },
  {
   "cell_type": "code",
   "execution_count": 15,
   "metadata": {},
   "outputs": [
    {
     "ename": "PyreadstatError",
     "evalue": "File indentity.sav does not exist!",
     "output_type": "error",
     "traceback": [
      "\u001b[1;31m---------------------------------------------------------------------------\u001b[0m",
      "\u001b[1;31mPyreadstatError\u001b[0m                           Traceback (most recent call last)",
      "\u001b[1;32mc:\\Users\\李华\\Desktop\\LiTang\\作业3-数据读写查询.ipynb 单元格 6\u001b[0m line \u001b[0;36m2\n\u001b[0;32m      <a href='vscode-notebook-cell:/c%3A/Users/%E6%9D%8E%E5%8D%8E/Desktop/LiTang/%E4%BD%9C%E4%B8%9A3-%E6%95%B0%E6%8D%AE%E8%AF%BB%E5%86%99%E6%9F%A5%E8%AF%A2.ipynb#W5sZmlsZQ%3D%3D?line=0'>1</a>\u001b[0m \u001b[39m#任务2：sav格式数据的读写检查\u001b[39;00m\n\u001b[1;32m----> <a href='vscode-notebook-cell:/c%3A/Users/%E6%9D%8E%E5%8D%8E/Desktop/LiTang/%E4%BD%9C%E4%B8%9A3-%E6%95%B0%E6%8D%AE%E8%AF%BB%E5%86%99%E6%9F%A5%E8%AF%A2.ipynb#W5sZmlsZQ%3D%3D?line=1'>2</a>\u001b[0m df3 \u001b[39m=\u001b[39m pd\u001b[39m.\u001b[39;49mread_spss(\u001b[39mR\u001b[39;49m\u001b[39m'\u001b[39;49m\u001b[39mindentity.sav\u001b[39;49m\u001b[39m'\u001b[39;49m)\n",
      "File \u001b[1;32me:\\up\\lib\\site-packages\\pandas\\io\\spss.py:62\u001b[0m, in \u001b[0;36mread_spss\u001b[1;34m(path, usecols, convert_categoricals, dtype_backend)\u001b[0m\n\u001b[0;32m     59\u001b[0m         \u001b[39mraise\u001b[39;00m \u001b[39mTypeError\u001b[39;00m(\u001b[39m\"\u001b[39m\u001b[39musecols must be list-like.\u001b[39m\u001b[39m\"\u001b[39m)\n\u001b[0;32m     60\u001b[0m     usecols \u001b[39m=\u001b[39m \u001b[39mlist\u001b[39m(usecols)  \u001b[39m# pyreadstat requires a list\u001b[39;00m\n\u001b[1;32m---> 62\u001b[0m df, _ \u001b[39m=\u001b[39m pyreadstat\u001b[39m.\u001b[39;49mread_sav(\n\u001b[0;32m     63\u001b[0m     stringify_path(path), usecols\u001b[39m=\u001b[39;49musecols, apply_value_formats\u001b[39m=\u001b[39;49mconvert_categoricals\n\u001b[0;32m     64\u001b[0m )\n\u001b[0;32m     65\u001b[0m \u001b[39mif\u001b[39;00m dtype_backend \u001b[39mis\u001b[39;00m \u001b[39mnot\u001b[39;00m lib\u001b[39m.\u001b[39mno_default:\n\u001b[0;32m     66\u001b[0m     df \u001b[39m=\u001b[39m df\u001b[39m.\u001b[39mconvert_dtypes(dtype_backend\u001b[39m=\u001b[39mdtype_backend)\n",
      "File \u001b[1;32mpyreadstat\\\\pyreadstat.pyx:388\u001b[0m, in \u001b[0;36mpyreadstat.pyreadstat.read_sav\u001b[1;34m()\u001b[0m\n",
      "File \u001b[1;32mpyreadstat\\\\_readstat_parser.pyx:1065\u001b[0m, in \u001b[0;36mpyreadstat._readstat_parser.run_conversion\u001b[1;34m()\u001b[0m\n",
      "\u001b[1;31mPyreadstatError\u001b[0m: File indentity.sav does not exist!"
     ]
    }
   ],
   "source": [
    "#任务2：sav格式数据的读写检查\n",
    "df3 = pd.read_spss(R'indentity.sav')"
   ]
  },
  {
   "cell_type": "code",
   "execution_count": 8,
   "metadata": {},
   "outputs": [],
   "source": [
    "import pyreadstat"
   ]
  },
  {
   "cell_type": "code",
   "execution_count": 21,
   "metadata": {},
   "outputs": [
    {
     "ename": "PyreadstatError",
     "evalue": "File indentity.sav does not exist!",
     "output_type": "error",
     "traceback": [
      "\u001b[1;31m---------------------------------------------------------------------------\u001b[0m",
      "\u001b[1;31mPyreadstatError\u001b[0m                           Traceback (most recent call last)",
      "\u001b[1;32mc:\\Users\\李华\\Desktop\\LiTang\\作业3-数据读写查询.ipynb 单元格 8\u001b[0m line \u001b[0;36m1\n\u001b[1;32m----> <a href='vscode-notebook-cell:/c%3A/Users/%E6%9D%8E%E5%8D%8E/Desktop/LiTang/%E4%BD%9C%E4%B8%9A3-%E6%95%B0%E6%8D%AE%E8%AF%BB%E5%86%99%E6%9F%A5%E8%AF%A2.ipynb#X10sZmlsZQ%3D%3D?line=0'>1</a>\u001b[0m d \u001b[39m=\u001b[39mpyreadstat\u001b[39m.\u001b[39;49mread_sav(\u001b[39mR\u001b[39;49m\u001b[39m'\u001b[39;49m\u001b[39mindentity.sav\u001b[39;49m\u001b[39m'\u001b[39;49m)\n",
      "File \u001b[1;32mpyreadstat\\\\pyreadstat.pyx:388\u001b[0m, in \u001b[0;36mpyreadstat.pyreadstat.read_sav\u001b[1;34m()\u001b[0m\n",
      "File \u001b[1;32mpyreadstat\\\\_readstat_parser.pyx:1065\u001b[0m, in \u001b[0;36mpyreadstat._readstat_parser.run_conversion\u001b[1;34m()\u001b[0m\n",
      "\u001b[1;31mPyreadstatError\u001b[0m: File indentity.sav does not exist!"
     ]
    }
   ],
   "source": [
    "d =pyreadstat.read_sav(R'indentity.sav')"
   ]
  },
  {
   "cell_type": "code",
   "execution_count": 11,
   "metadata": {},
   "outputs": [
    {
     "data": {
      "text/plain": [
       "[<Page:1>,\n",
       " <Page:2>,\n",
       " <Page:3>,\n",
       " <Page:4>,\n",
       " <Page:5>,\n",
       " <Page:6>,\n",
       " <Page:7>,\n",
       " <Page:8>,\n",
       " <Page:9>,\n",
       " <Page:10>,\n",
       " <Page:11>,\n",
       " <Page:12>,\n",
       " <Page:13>,\n",
       " <Page:14>,\n",
       " <Page:15>,\n",
       " <Page:16>,\n",
       " <Page:17>,\n",
       " <Page:18>,\n",
       " <Page:19>,\n",
       " <Page:20>,\n",
       " <Page:21>,\n",
       " <Page:22>,\n",
       " <Page:23>,\n",
       " <Page:24>,\n",
       " <Page:25>,\n",
       " <Page:26>,\n",
       " <Page:27>,\n",
       " <Page:28>,\n",
       " <Page:29>,\n",
       " <Page:30>,\n",
       " <Page:31>,\n",
       " <Page:32>,\n",
       " <Page:33>,\n",
       " <Page:34>,\n",
       " <Page:35>,\n",
       " <Page:36>,\n",
       " <Page:37>,\n",
       " <Page:38>,\n",
       " <Page:39>,\n",
       " <Page:40>,\n",
       " <Page:41>,\n",
       " <Page:42>,\n",
       " <Page:43>,\n",
       " <Page:44>,\n",
       " <Page:45>,\n",
       " <Page:46>,\n",
       " <Page:47>,\n",
       " <Page:48>,\n",
       " <Page:49>,\n",
       " <Page:50>,\n",
       " <Page:51>,\n",
       " <Page:52>,\n",
       " <Page:53>,\n",
       " <Page:54>,\n",
       " <Page:55>,\n",
       " <Page:56>,\n",
       " <Page:57>,\n",
       " <Page:58>,\n",
       " <Page:59>,\n",
       " <Page:60>,\n",
       " <Page:61>,\n",
       " <Page:62>,\n",
       " <Page:63>,\n",
       " <Page:64>,\n",
       " <Page:65>,\n",
       " <Page:66>,\n",
       " <Page:67>,\n",
       " <Page:68>,\n",
       " <Page:69>,\n",
       " <Page:70>,\n",
       " <Page:71>,\n",
       " <Page:72>,\n",
       " <Page:73>,\n",
       " <Page:74>,\n",
       " <Page:75>,\n",
       " <Page:76>,\n",
       " <Page:77>,\n",
       " <Page:78>,\n",
       " <Page:79>,\n",
       " <Page:80>,\n",
       " <Page:81>,\n",
       " <Page:82>,\n",
       " <Page:83>,\n",
       " <Page:84>,\n",
       " <Page:85>,\n",
       " <Page:86>,\n",
       " <Page:87>,\n",
       " <Page:88>,\n",
       " <Page:89>,\n",
       " <Page:90>,\n",
       " <Page:91>,\n",
       " <Page:92>]"
      ]
     },
     "execution_count": 11,
     "metadata": {},
     "output_type": "execute_result"
    }
   ],
   "source": [
    "#任务4：pdf表格数据的读写检查\n",
    "import pdfplumber\n",
    "pdf = pdfplumber.open(R'高考核心词汇1278.pdf')\n",
    "pdf.pages"
   ]
  },
  {
   "cell_type": "code",
   "execution_count": 12,
   "metadata": {},
   "outputs": [
    {
     "data": {
      "text/plain": [
       "92"
      ]
     },
     "execution_count": 12,
     "metadata": {},
     "output_type": "execute_result"
    }
   ],
   "source": [
    "len(pdf.pages)"
   ]
  },
  {
   "cell_type": "code",
   "execution_count": 13,
   "metadata": {},
   "outputs": [],
   "source": [
    "#初始化列表\n",
    "table = []\n",
    "#从第一页循环到最后一页\n",
    "for i in range(len(pdf.pages) - 1):\n",
    "    #获取第1页\n",
    "    page = pdf.pages[i + 1]\n",
    "    table.extend(page.extract_table())"
   ]
  }
 ],
 "metadata": {
  "kernelspec": {
   "display_name": "Python 3",
   "language": "python",
   "name": "python3"
  },
  "language_info": {
   "codemirror_mode": {
    "name": "ipython",
    "version": 3
   },
   "file_extension": ".py",
   "mimetype": "text/x-python",
   "name": "python",
   "nbconvert_exporter": "python",
   "pygments_lexer": "ipython3",
   "version": "3.8.10"
  },
  "orig_nbformat": 4
 },
 "nbformat": 4,
 "nbformat_minor": 2
}
