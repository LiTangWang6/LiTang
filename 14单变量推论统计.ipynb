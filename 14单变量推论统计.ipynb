{
 "cells": [
  {
   "cell_type": "code",
   "execution_count": 5,
   "metadata": {},
   "outputs": [
    {
     "ename": "SyntaxError",
     "evalue": "invalid character in identifier (mytools.py, line 80)",
     "output_type": "error",
     "traceback": [
      "Traceback \u001b[1;36m(most recent call last)\u001b[0m:\n",
      "\u001b[0m  File \u001b[0;32m~\\AppData\\Roaming\\Python\\Python38\\site-packages\\IPython\\core\\interactiveshell.py:3508\u001b[0m in \u001b[0;35mrun_code\u001b[0m\n    exec(code_obj, self.user_global_ns, self.user_ns)\u001b[0m\n",
      "\u001b[1;36m  Cell \u001b[1;32mIn[5], line 1\u001b[1;36m\n\u001b[1;33m    import mytools\u001b[1;36m\n",
      "\u001b[1;36m  File \u001b[1;32mc:\\Users\\李华\\Desktop\\LiTang1\\mytools.py:80\u001b[1;36m\u001b[0m\n\u001b[1;33m    def 计算单变量均值置信区间(数据表路径及文件名，变量名，置信区间=0.95):\u001b[0m\n\u001b[1;37m                                     ^\u001b[0m\n\u001b[1;31mSyntaxError\u001b[0m\u001b[1;31m:\u001b[0m invalid character in identifier\n"
     ]
    }
   ],
   "source": [
    "import mytools \n",
    "import pandas as pd\n",
    "from scipy import stats \n",
    "import numpy as np\n",
    "# 打开数据文件\n",
    "file_path = R\"D:\\新建文件夹\\movie_data_cleaned (1).csv\"\n",
    "df_movies = pd.read_csv(file_path)\n",
    "# 计算均值和标准误差\n",
    "mean = df_movies['average'].mean()\n",
    "std_error = stats.sem(df_movies['average'])\n",
    "# 设定置信水平\n",
    "confidence_level = 0.95\n",
    "# 设定自由度\n",
    "自由度 = len(df_movies['average']) - 1\n",
    "# 计算置信区间\n",
    "confidence_interval = stats.t.interval(confidence_level, 自由度, loc=mean, scale=std_error)\n",
    "# 输出结果\n",
    "print(F\"均值：{mean: .2f}\")\n",
    "print(F\"均值在置信水平{confidence_level}下的置信区间为：\", confidence_interval)"
   ]
  },
  {
   "cell_type": "code",
   "execution_count": 2,
   "metadata": {},
   "outputs": [
    {
     "ename": "NameError",
     "evalue": "name 'mytools' is not defined",
     "output_type": "error",
     "traceback": [
      "\u001b[1;31m---------------------------------------------------------------------------\u001b[0m",
      "\u001b[1;31mNameError\u001b[0m                                 Traceback (most recent call last)",
      "\u001b[1;32mc:\\Users\\李华\\Desktop\\LiTang1\\14单变量推论统计.ipynb 单元格 2\u001b[0m line \u001b[0;36m1\n\u001b[1;32m----> <a href='vscode-notebook-cell:/c%3A/Users/%E6%9D%8E%E5%8D%8E/Desktop/LiTang1/14%E5%8D%95%E5%8F%98%E9%87%8F%E6%8E%A8%E8%AE%BA%E7%BB%9F%E8%AE%A1.ipynb#W1sZmlsZQ%3D%3D?line=0'>1</a>\u001b[0m mytools\u001b[39m.\u001b[39m计算单变量均值置信区间()\n",
      "\u001b[1;31mNameError\u001b[0m: name 'mytools' is not defined"
     ]
    }
   ],
   "source": [
    "mytools.计算单变量均值置信区间()"
   ]
  }
 ],
 "metadata": {
  "kernelspec": {
   "display_name": "Python 3",
   "language": "python",
   "name": "python3"
  },
  "language_info": {
   "codemirror_mode": {
    "name": "ipython",
    "version": 3
   },
   "file_extension": ".py",
   "mimetype": "text/x-python",
   "name": "python",
   "nbconvert_exporter": "python",
   "pygments_lexer": "ipython3",
   "version": "3.8.10"
  }
 },
 "nbformat": 4,
 "nbformat_minor": 2
}
