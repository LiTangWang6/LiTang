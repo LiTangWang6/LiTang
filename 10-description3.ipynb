{
 "cells": [
  {
   "cell_type": "code",
   "execution_count": 2,
   "metadata": {},
   "outputs": [
    {
     "data": {
      "text/plain": [
       "' \\n数值变量的描述统计\\n\\n统计指标：\\n\\n1. 中值\\n2. 平均值\\n3. 方差\\n\\n可视化：\\n\\n1. 散点图\\n\\n'"
      ]
     },
     "execution_count": 2,
     "metadata": {},
     "output_type": "execute_result"
    }
   ],
   "source": [
    "\"\"\" \n",
    "数值变量的描述统计\n",
    "\n",
    "统计指标：\n",
    "\n",
    "1. 中值\n",
    "2. 平均值\n",
    "3. 方差\n",
    "\n",
    "可视化：\n",
    "\n",
    "1. 散点图\n",
    "\n",
    "\"\"\""
   ]
  },
  {
   "cell_type": "code",
   "execution_count": 1,
   "metadata": {},
   "outputs": [],
   "source": [
    "import mytools\n",
    "from pyreadstat import pyreadstat\n",
    "国家认同原始数据, meta = mytools.读取SPSS数据(R'data/identity.sav')\n",
    "df, metadata = pyreadstat.read_sav(r'data/identity.sav',apply_value_formats=False,formats_as_ordered_category=True)\n"
   ]
  },
  {
   "cell_type": "code",
   "execution_count": 1,
   "metadata": {},
   "outputs": [
    {
     "ename": "NameError",
     "evalue": "name 'mytools' is not defined",
     "output_type": "error",
     "traceback": [
      "\u001b[1;31m---------------------------------------------------------------------------\u001b[0m",
      "\u001b[1;31mNameError\u001b[0m                                 Traceback (most recent call last)",
      "\u001b[1;32mc:\\Users\\李华\\Desktop\\LiTang1\\10-description3.ipynb 单元格 3\u001b[0m line \u001b[0;36m1\n\u001b[1;32m----> <a href='vscode-notebook-cell:/c%3A/Users/%E6%9D%8E%E5%8D%8E/Desktop/LiTang1/10-description3.ipynb#W2sZmlsZQ%3D%3D?line=0'>1</a>\u001b[0m mytools\u001b[39m.\u001b[39m读取SPSS数据(\u001b[39mR\u001b[39m\u001b[39m'\u001b[39m\u001b[39mdata/identity.sav\u001b[39m\u001b[39m'\u001b[39m)\n",
      "\u001b[1;31mNameError\u001b[0m: name 'mytools' is not defined"
     ]
    }
   ],
   "source": [
    "mytools.读取SPSS数据(R'data/identity.sav')"
   ]
  },
  {
   "cell_type": "code",
   "execution_count": null,
   "metadata": {},
   "outputs": [],
   "source": [
    "国家认同原始数据.您觉得中国怎么样"
   ]
  }
 ],
 "metadata": {
  "kernelspec": {
   "display_name": "Python 3",
   "language": "python",
   "name": "python3"
  },
  "language_info": {
   "codemirror_mode": {
    "name": "ipython",
    "version": 3
   },
   "file_extension": ".py",
   "mimetype": "text/x-python",
   "name": "python",
   "nbconvert_exporter": "python",
   "pygments_lexer": "ipython3",
   "version": "3.8.10"
  }
 },
 "nbformat": 4,
 "nbformat_minor": 2
}
