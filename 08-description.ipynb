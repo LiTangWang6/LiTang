{
 "cells": [
  {
   "cell_type": "code",
   "execution_count": 2,
   "metadata": {},
   "outputs": [
    {
     "ename": "PyreadstatError",
     "evalue": "File identity.sav\" does not exist!",
     "output_type": "error",
     "traceback": [
      "\u001b[1;31m---------------------------------------------------------------------------\u001b[0m",
      "\u001b[1;31mPyreadstatError\u001b[0m                           Traceback (most recent call last)",
      "\u001b[1;32mc:\\Users\\李华\\Desktop\\LiTang1\\08-description.ipynb 单元格 1\u001b[0m line \u001b[0;36m3\n\u001b[0;32m      <a href='vscode-notebook-cell:/c%3A/Users/%E6%9D%8E%E5%8D%8E/Desktop/LiTang1/08-description.ipynb#W0sZmlsZQ%3D%3D?line=0'>1</a>\u001b[0m \u001b[39mimport\u001b[39;00m \u001b[39mpandas\u001b[39;00m \u001b[39mas\u001b[39;00m \u001b[39mpd\u001b[39;00m\n\u001b[0;32m      <a href='vscode-notebook-cell:/c%3A/Users/%E6%9D%8E%E5%8D%8E/Desktop/LiTang1/08-description.ipynb#W0sZmlsZQ%3D%3D?line=1'>2</a>\u001b[0m \u001b[39mfrom\u001b[39;00m \u001b[39mpyreadstat\u001b[39;00m \u001b[39mimport\u001b[39;00m pyreadstat\n\u001b[1;32m----> <a href='vscode-notebook-cell:/c%3A/Users/%E6%9D%8E%E5%8D%8E/Desktop/LiTang1/08-description.ipynb#W0sZmlsZQ%3D%3D?line=2'>3</a>\u001b[0m df, metadata \u001b[39m=\u001b[39m pyreadstat\u001b[39m.\u001b[39;49mread_sav(\u001b[39mr\u001b[39;49m\u001b[39m'\u001b[39;49m\u001b[39midentity.sav\u001b[39;49m\u001b[39m\"\u001b[39;49m\u001b[39m'\u001b[39;49m,\n\u001b[0;32m      <a href='vscode-notebook-cell:/c%3A/Users/%E6%9D%8E%E5%8D%8E/Desktop/LiTang1/08-description.ipynb#W0sZmlsZQ%3D%3D?line=3'>4</a>\u001b[0m apply_value_formats\u001b[39m=\u001b[39;49m\u001b[39mTrue\u001b[39;49;00m,formats_as_ordered_category\u001b[39m=\u001b[39;49m\u001b[39mTrue\u001b[39;49;00m)\n\u001b[0;32m      <a href='vscode-notebook-cell:/c%3A/Users/%E6%9D%8E%E5%8D%8E/Desktop/LiTang1/08-description.ipynb#W0sZmlsZQ%3D%3D?line=4'>5</a>\u001b[0m result \u001b[39m=\u001b[39m df[\u001b[39m'\u001b[39m\u001b[39m会打多少分\u001b[39m\u001b[39m'\u001b[39m]\u001b[39m.\u001b[39mvalue_counts(sort\u001b[39m=\u001b[39m\u001b[39mFalse\u001b[39;00m)\n\u001b[0;32m      <a href='vscode-notebook-cell:/c%3A/Users/%E6%9D%8E%E5%8D%8E/Desktop/LiTang1/08-description.ipynb#W0sZmlsZQ%3D%3D?line=5'>6</a>\u001b[0m df_result \u001b[39m=\u001b[39m pd\u001b[39m.\u001b[39mDataFrame(result)\n",
      "File \u001b[1;32mpyreadstat\\\\pyreadstat.pyx:388\u001b[0m, in \u001b[0;36mpyreadstat.pyreadstat.read_sav\u001b[1;34m()\u001b[0m\n",
      "File \u001b[1;32mpyreadstat\\\\_readstat_parser.pyx:1065\u001b[0m, in \u001b[0;36mpyreadstat._readstat_parser.run_conversion\u001b[1;34m()\u001b[0m\n",
      "\u001b[1;31mPyreadstatError\u001b[0m: File identity.sav\" does not exist!"
     ]
    }
   ],
   "source": [
    "import pandas as pd\n",
    "from pyreadstat import pyreadstat\n",
    "df, metadata = pyreadstat.read_sav(r'identity.sav\"',\n",
    "apply_value_formats=True,formats_as_ordered_category=True)\n",
    "result = df['会打多少分'].value_counts(sort=False)\n",
    "df_result = pd.DataFrame(result)\n",
    "df_result['累计求和']= result.values.cumsum()"
   ]
  },
  {
   "cell_type": "code",
   "execution_count": null,
   "metadata": {},
   "outputs": [
    {
     "ename": "NameError",
     "evalue": "name 'df' is not defined",
     "output_type": "error",
     "traceback": [
      "\u001b[1;31m---------------------------------------------------------------------------\u001b[0m",
      "\u001b[1;31mNameError\u001b[0m                                 Traceback (most recent call last)",
      "\u001b[1;32mc:\\Users\\李华\\Desktop\\LiTang1\\08-description.ipynb 单元格 2\u001b[0m line \u001b[0;36m1\n\u001b[1;32m----> <a href='vscode-notebook-cell:/c%3A/Users/%E6%9D%8E%E5%8D%8E/Desktop/LiTang1/08-description.ipynb#W1sZmlsZQ%3D%3D?line=0'>1</a>\u001b[0m result \u001b[39m=\u001b[39m df[\u001b[39m'\u001b[39m\u001b[39m会打多少分\u001b[39m\u001b[39m'\u001b[39m]\u001b[39m.\u001b[39mvalue_count(sort\u001b[39m=\u001b[39m\u001b[39mFalse\u001b[39;00m)\n\u001b[0;32m      <a href='vscode-notebook-cell:/c%3A/Users/%E6%9D%8E%E5%8D%8E/Desktop/LiTang1/08-description.ipynb#W1sZmlsZQ%3D%3D?line=1'>2</a>\u001b[0m df_result \u001b[39m=\u001b[39m pd\u001b[39m.\u001b[39mDataFrame(result)\n\u001b[0;32m      <a href='vscode-notebook-cell:/c%3A/Users/%E6%9D%8E%E5%8D%8E/Desktop/LiTang1/08-description.ipynb#W1sZmlsZQ%3D%3D?line=2'>3</a>\u001b[0m df_result[\u001b[39m'\u001b[39m\u001b[39m累计求和\u001b[39m\u001b[39m'\u001b[39m] \u001b[39m=\u001b[39m result\u001b[39m.\u001b[39mvalues\u001b[39m.\u001b[39mcumsum()\n",
      "\u001b[1;31mNameError\u001b[0m: name 'df' is not defined"
     ]
    }
   ],
   "source": [
    "result = df['会打多少分'].value_count(sort=False)\n",
    "df_result = pd.DataFrame(result)\n",
    "df_result['累计求和'] = result.values.cumsum()\n",
    "sum = df_result['count'].sum()\n",
    "df_result['累计比例'] = df_result['count'] / sum"
   ]
  },
  {
   "cell_type": "code",
   "execution_count": null,
   "metadata": {},
   "outputs": [
    {
     "ename": "NameError",
     "evalue": "name 'df' is not defined",
     "output_type": "error",
     "traceback": [
      "\u001b[1;31m---------------------------------------------------------------------------\u001b[0m",
      "\u001b[1;31mNameError\u001b[0m                                 Traceback (most recent call last)",
      "\u001b[1;32mc:\\Users\\李华\\Desktop\\LiTang1\\08-description.ipynb 单元格 3\u001b[0m line \u001b[0;36m1\n\u001b[1;32m----> <a href='vscode-notebook-cell:/c%3A/Users/%E6%9D%8E%E5%8D%8E/Desktop/LiTang1/08-description.ipynb#W3sZmlsZQ%3D%3D?line=0'>1</a>\u001b[0m result \u001b[39m=\u001b[39m df[\u001b[39m'\u001b[39m\u001b[39m会打多少分\u001b[39m\u001b[39m'\u001b[39m]\u001b[39m.\u001b[39mvalue_count(sort\u001b[39m=\u001b[39m\u001b[39mFalse\u001b[39;00m,)\n\u001b[0;32m      <a href='vscode-notebook-cell:/c%3A/Users/%E6%9D%8E%E5%8D%8E/Desktop/LiTang1/08-description.ipynb#W3sZmlsZQ%3D%3D?line=1'>2</a>\u001b[0m 描述统计表 \u001b[39m=\u001b[39m pd\u001b[39m.\u001b[39mDataFrame(result)\n\u001b[0;32m      <a href='vscode-notebook-cell:/c%3A/Users/%E6%9D%8E%E5%8D%8E/Desktop/LiTang1/08-description.ipynb#W3sZmlsZQ%3D%3D?line=2'>3</a>\u001b[0m 描述统计表[\u001b[39m'\u001b[39m\u001b[39m比例\u001b[39m\u001b[39m'\u001b[39m] \u001b[39m=\u001b[39m 描述统计表[\u001b[39m'\u001b[39m\u001b[39mcount\u001b[39m\u001b[39m'\u001b[39m]\u001b[39m/\u001b[39m描述统计表[\u001b[39m'\u001b[39m\u001b[39mcount\u001b[39m\u001b[39m'\u001b[39m]\u001b[39m.\u001b[39msum()\n",
      "\u001b[1;31mNameError\u001b[0m: name 'df' is not defined"
     ]
    }
   ],
   "source": [
    "result = df['会打多少分'].value_count(sort=False,)\n",
    "描述统计表 = pd.DataFrame(result)\n",
    "描述统计表['比例'] = 描述统计表['count']/描述统计表['count'].sum()\n",
    "描述统计表['累计比例'] = 描述统计表['比例'].cumsum"
   ]
  },
  {
   "cell_type": "code",
   "execution_count": null,
   "metadata": {},
   "outputs": [],
   "source": [
    "def order(表格名字，变量名字):\n",
    "    result = df[variable].           "
   ]
  },
  {
   "cell_type": "code",
   "execution_count": null,
   "metadata": {},
   "outputs": [
    {
     "ename": "NameError",
     "evalue": "name 'df' is not defined",
     "output_type": "error",
     "traceback": [
      "\u001b[1;31m---------------------------------------------------------------------------\u001b[0m",
      "\u001b[1;31mNameError\u001b[0m                                 Traceback (most recent call last)",
      "\u001b[1;32mc:\\Users\\李华\\Desktop\\LiTang1\\08-description.ipynb 单元格 4\u001b[0m line \u001b[0;36m1\n\u001b[1;32m----> <a href='vscode-notebook-cell:/c%3A/Users/%E6%9D%8E%E5%8D%8E/Desktop/LiTang1/08-description.ipynb#W2sZmlsZQ%3D%3D?line=0'>1</a>\u001b[0m result \u001b[39m=\u001b[39m df[\u001b[39m'\u001b[39m\u001b[39m会打多少分\u001b[39m\u001b[39m'\u001b[39m]\u001b[39m.\u001b[39mvalue_count(sort\u001b[39m=\u001b[39m\u001b[39mFalse\u001b[39;00m,normalize\u001b[39m=\u001b[39m\u001b[39mTrue\u001b[39;00m)\n\u001b[0;32m      <a href='vscode-notebook-cell:/c%3A/Users/%E6%9D%8E%E5%8D%8E/Desktop/LiTang1/08-description.ipynb#W2sZmlsZQ%3D%3D?line=1'>2</a>\u001b[0m df_result \u001b[39m=\u001b[39m pd\u001b[39m.\u001b[39mDateFrame(result)\n",
      "\u001b[1;31mNameError\u001b[0m: name 'df' is not defined"
     ]
    }
   ],
   "source": [
    "result = df['会打多少分'].value_count(sort=False,normalize=True)\n",
    "df_result = pd.DateFrame(result)\n"
   ]
  },
  {
   "cell_type": "code",
   "execution_count": null,
   "metadata": {},
   "outputs": [
    {
     "ename": "ModuleNotFoundError",
     "evalue": "No module named 'mytools'",
     "output_type": "error",
     "traceback": [
      "\u001b[1;31m---------------------------------------------------------------------------\u001b[0m",
      "\u001b[1;31mModuleNotFoundError\u001b[0m                       Traceback (most recent call last)",
      "\u001b[1;32mc:\\Users\\李华\\Desktop\\LiTang1\\08-description.ipynb 单元格 6\u001b[0m line \u001b[0;36m3\n\u001b[0;32m      <a href='vscode-notebook-cell:/c%3A/Users/%E6%9D%8E%E5%8D%8E/Desktop/LiTang1/08-description.ipynb#W5sZmlsZQ%3D%3D?line=0'>1</a>\u001b[0m \u001b[39mimport\u001b[39;00m \u001b[39mpandas\u001b[39;00m \u001b[39mas\u001b[39;00m \u001b[39mpd\u001b[39;00m\n\u001b[0;32m      <a href='vscode-notebook-cell:/c%3A/Users/%E6%9D%8E%E5%8D%8E/Desktop/LiTang1/08-description.ipynb#W5sZmlsZQ%3D%3D?line=1'>2</a>\u001b[0m \u001b[39mfrom\u001b[39;00m \u001b[39mpyreadstat\u001b[39;00m \u001b[39mimport\u001b[39;00m pyreadstat\n\u001b[1;32m----> <a href='vscode-notebook-cell:/c%3A/Users/%E6%9D%8E%E5%8D%8E/Desktop/LiTang1/08-description.ipynb#W5sZmlsZQ%3D%3D?line=2'>3</a>\u001b[0m \u001b[39mimport\u001b[39;00m \u001b[39mmytools\u001b[39;00m\n",
      "\u001b[1;31mModuleNotFoundError\u001b[0m: No module named 'mytools'"
     ]
    }
   ],
   "source": [
    "import pandas as pd\n",
    "from pyreadstat import pyreadstat\n",
    "import mytools"
   ]
  }
 ],
 "metadata": {
  "kernelspec": {
   "display_name": "Python 3",
   "language": "python",
   "name": "python3"
  },
  "language_info": {
   "codemirror_mode": {
    "name": "ipython",
    "version": 3
   },
   "file_extension": ".py",
   "mimetype": "text/x-python",
   "name": "python",
   "nbconvert_exporter": "python",
   "pygments_lexer": "ipython3",
   "version": "3.8.10"
  }
 },
 "nbformat": 4,
 "nbformat_minor": 2
}
